{
 "cells": [
  {
   "cell_type": "markdown",
   "metadata": {},
   "source": [
    "# Tạo từ điển"
   ]
  },
  {
   "cell_type": "code",
   "execution_count": 17,
   "metadata": {},
   "outputs": [
    {
     "name": "stdout",
     "output_type": "stream",
     "text": [
      "Nhập vào từ cần dịch: no\n",
      "Không có trong từ điển\n"
     ]
    }
   ],
   "source": [
    "viet_dict = {'hello': 'xin chào',\n",
    "             'thanks':\"Cảm ơn\",\n",
    "             'goodbye':\"Hẹn gặp lại\",\n",
    "              'cat': 'con mèo',\n",
    "            'dog':'con chó'}\n",
    "def translated_word(input_word):\n",
    "    for i in viet_dict:\n",
    "        if i == input_word:\n",
    "            print(viet_dict[input_word])\n",
    "            break\n",
    "        else:\n",
    "            print(\"Không có trong từ điển\")\n",
    "            break\n",
    "input_word = input(\"Nhập vào từ cần dịch: \")\n",
    "translated_word(input_word)"
   ]
  },
  {
   "cell_type": "code",
   "execution_count": 14,
   "metadata": {},
   "outputs": [
    {
     "data": {
      "text/plain": [
       "'xin chào'"
      ]
     },
     "execution_count": 14,
     "metadata": {},
     "output_type": "execute_result"
    }
   ],
   "source": [
    "viet_dict['hello']"
   ]
  },
  {
   "cell_type": "code",
   "execution_count": null,
   "metadata": {},
   "outputs": [],
   "source": []
  }
 ],
 "metadata": {
  "kernelspec": {
   "display_name": "Python 3",
   "language": "python",
   "name": "python3"
  },
  "language_info": {
   "codemirror_mode": {
    "name": "ipython",
    "version": 3
   },
   "file_extension": ".py",
   "mimetype": "text/x-python",
   "name": "python",
   "nbconvert_exporter": "python",
   "pygments_lexer": "ipython3",
   "version": "3.7.6"
  }
 },
 "nbformat": 4,
 "nbformat_minor": 4
}
