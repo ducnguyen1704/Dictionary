{
 "cells": [
  {
   "cell_type": "markdown",
   "metadata": {},
   "source": [
    " # Chương trình 1"
   ]
  },
  {
   "cell_type": "code",
   "execution_count": 1,
   "metadata": {},
   "outputs": [],
   "source": [
    "\n",
    "fields = [\n",
    "    {\n",
    "        \"name\": \"name\",\n",
    "        \"loop\": False,\n",
    "        \"display_text\": \"Nhập họ tên: \"\n",
    "    },\n",
    "    {\n",
    "        \"name\": \"phones\",\n",
    "        \"loop\": True,\n",
    "        \"display_text\": \"Vui lòng nhập số điện thoại (nhập nhiều lần, để trống sẽ dừng): \"\n",
    "    },\n",
    "    {\n",
    "        \"name\": \"emails\",\n",
    "        \"loop\": True,\n",
    "        \"display_text\": \"Vui lòng nhập email (nhập nhiều lần, để trống sẽ dừng): \"\n",
    "    },\n",
    "    {\n",
    "        \"name\": \"addres\",\n",
    "        \"loop\": False,\n",
    "        \"display_text\": \"Nhập địa chỉ: \"\n",
    "    },\n",
    "    {\n",
    "        \"name\": \"note\",\n",
    "        \"loop\": False,\n",
    "        \"display_text\": \"Nhập ghi chú: \"\n",
    "    },\n",
    "    {\n",
    "        \"name\": \"tags\",\n",
    "        \"loop\": True,\n",
    "        \"display_text\": \"Vui lòng nhập tags (nhập nhiều lần, để trống sẽ dừng): \"\n",
    "    }\n",
    "]\n",
    "\n",
    "# Thêm vào danh bạ.\n",
    "contact = {}\n",
    "def add():\n",
    "\n",
    "    for field in fields:\n",
    "        if field[\"loop\"]:\n",
    "            value_list = []\n",
    "            print(field[\"display_text\"])\n",
    "            while True:\n",
    "                value = input()\n",
    "                if value == \"\":\n",
    "                    break\n",
    "                value_list.append(value)\n",
    "            contact.update({field[\"name\"]: value_list})\n",
    "        else:\n",
    "            value = input(field[\"display_text\"])\n",
    "            contact.update({ field[\"name\"]: value })\n",
    "\n",
    "    print(contact)"
   ]
  },
  {
   "cell_type": "code",
   "execution_count": null,
   "metadata": {},
   "outputs": [],
   "source": [
    "def show_menu():\n",
    "    print('''\n",
    "    Ứng dụng quản lý danh bạ.\n",
    "    1) Thêm danh bạ\n",
    "    2) Sửa danh bạ\n",
    "    3) Xóa danh bạ\n",
    "    4) Hiển thị toàn bộ danh bạ\n",
    "    5) Tìm kiểm danh bạ theo tag\n",
    "    6) Hiển thị danh bạ theo tag\n",
    "    7) Thoát\n",
    "    ''')\n",
    "\n",
    "    def get_choice():\n",
    "        choice = int(input(\"\"))\n",
    "        return choice"
   ]
  },
  {
   "cell_type": "code",
   "execution_count": null,
   "metadata": {},
   "outputs": [],
   "source": [
    "while True: \n",
    "    show_menu()\n",
    "    choice = get_choice()\n",
    "    if choice == 7:\n",
    "        break\n",
    "    elif choice == 1:\n",
    "        pass\n",
    "    elif choce == 2:\n",
    "        pass\n",
    "    elif choice == 3:\n",
    "        pass\n",
    "    elif choice == 4:\n",
    "        pass\n",
    "    elif choce == 5:\n",
    "        pass\n",
    "    elif choice == 6:\n",
    "        pass\n"
   ]
  },
  {
   "cell_type": "code",
   "execution_count": null,
   "metadata": {},
   "outputs": [],
   "source": [
    "\n",
    "        "
   ]
  },
  {
   "cell_type": "code",
   "execution_count": null,
   "metadata": {},
   "outputs": [],
   "source": []
  },
  {
   "cell_type": "code",
   "execution_count": null,
   "metadata": {},
   "outputs": [],
   "source": []
  },
  {
   "cell_type": "code",
   "execution_count": null,
   "metadata": {},
   "outputs": [],
   "source": []
  },
  {
   "cell_type": "code",
   "execution_count": null,
   "metadata": {},
   "outputs": [],
   "source": []
  },
  {
   "cell_type": "code",
   "execution_count": 6,
   "metadata": {},
   "outputs": [
    {
     "name": "stdout",
     "output_type": "stream",
     "text": [
      "Nhập họ tên: Nguyễn Công Minh\n",
      "Vui lòng nhập số điện thoại (nhập nhiều lần, để trống sẽ dừng): \n",
      "0394722427\n",
      "\n",
      "Vui lòng nhập email (nhập nhiều lần, để trống sẽ dừng): \n",
      "ducnguyen@gmail.com\n",
      "\n",
      "Nhập địa chỉ: Bac Giang\n",
      "Nhập ghi chú: None\n",
      "Vui lòng nhập tags (nhập nhiều lần, để trống sẽ dừng): \n",
      "Bạn bè\n",
      "\n",
      "{'name': 'Nguyễn Công Minh', 'phones': ['0394722427'], 'emails': ['ducnguyen@gmail.com'], 'addres': 'Bac Giang', 'note': 'None', 'tags': ['Bạn bè']}\n"
     ]
    }
   ],
   "source": [
    "add()"
   ]
  },
  {
   "cell_type": "code",
   "execution_count": 7,
   "metadata": {},
   "outputs": [
    {
     "data": {
      "text/plain": [
       "{'name': 'Nguyễn Công Minh',\n",
       " 'phones': ['0394722427'],\n",
       " 'emails': ['ducnguyen@gmail.com'],\n",
       " 'addres': 'Bac Giang',\n",
       " 'note': 'None',\n",
       " 'tags': ['Bạn bè']}"
      ]
     },
     "execution_count": 7,
     "metadata": {},
     "output_type": "execute_result"
    }
   ],
   "source": [
    "contact"
   ]
  },
  {
   "cell_type": "markdown",
   "metadata": {},
   "source": [
    "# Chương trình quản lý danh bạ"
   ]
  },
  {
   "cell_type": "code",
   "execution_count": null,
   "metadata": {},
   "outputs": [
    {
     "name": "stdout",
     "output_type": "stream",
     "text": [
      "CHƯƠNG TRÌNH QUẢN LÝ DANH BẠ PYTHON\n",
      "Chọn chức năng muốn thực hiện:\n",
      "Nhập 1: Thêm sinh viên\n",
      "Nhập 2: Xóa sinh viên\n",
      "Nhập 3: Sửa sinh viên\n",
      "Nhập 4: Xem danh sách sinh viên\n",
      "Nhập 0: Thoát khỏi chương trình\n",
      "1\n",
      "*** THÊM DANH BẠ ***\n",
      "Nhập tên danh bạ:\n",
      "Đức\n",
      "Nhập số điện thoại:\n",
      "039385745\n",
      "Nhập email: \n",
      "ducnguyen14b1\n",
      "Nhập địa chỉ: \n",
      "Lộc Nam\n",
      "Nhập note: \n",
      "none\n",
      "Nhập tag: \n",
      "none\n",
      "Chọn chức năng muốn thực hiện:\n",
      "Nhập 1: Thêm sinh viên\n",
      "Nhập 2: Xóa sinh viên\n",
      "Nhập 3: Sửa sinh viên\n",
      "Nhập 4: Xem danh sách sinh viên\n",
      "Nhập 0: Thoát khỏi chương trình\n",
      "4\n",
      "*** DANH SÁCH DANH BẠ HIỆN TẠI ***\n",
      "[{'name': 'Đức', 'tel': '039385745', 'email': 'ducnguyen14b1', 'add': 'Lộc Nam', 'note': 'none', 'tag': 'none'}]\n",
      "Chọn chức năng muốn thực hiện:\n",
      "Nhập 1: Thêm sinh viên\n",
      "Nhập 2: Xóa sinh viên\n",
      "Nhập 3: Sửa sinh viên\n",
      "Nhập 4: Xem danh sách sinh viên\n",
      "Nhập 0: Thoát khỏi chương trình\n",
      "2\n",
      "*** XÓA KHỎI DANH BẠ ***\n",
      "Nhập TÊN danh bạ cần xóa:\n",
      "Đức\n",
      "Nhập chỉ mục vị trí cần xóa0\n",
      "Không tìm thấy sinh viên cần xóa\n",
      "Chọn chức năng muốn thực hiện:\n",
      "Nhập 1: Thêm sinh viên\n",
      "Nhập 2: Xóa sinh viên\n",
      "Nhập 3: Sửa sinh viên\n",
      "Nhập 4: Xem danh sách sinh viên\n",
      "Nhập 0: Thoát khỏi chương trình\n",
      "4\n",
      "*** DANH SÁCH DANH BẠ HIỆN TẠI ***\n",
      "[{'name': 'Đức', 'tel': '039385745', 'email': 'ducnguyen14b1', 'add': 'Lộc Nam', 'note': 'none', 'tag': 'none'}]\n",
      "Chọn chức năng muốn thực hiện:\n",
      "Nhập 1: Thêm sinh viên\n",
      "Nhập 2: Xóa sinh viên\n",
      "Nhập 3: Sửa sinh viên\n",
      "Nhập 4: Xem danh sách sinh viên\n",
      "Nhập 0: Thoát khỏi chương trình\n"
     ]
    }
   ],
   "source": [
    "print(\"CHƯƠNG TRÌNH QUẢN LÝ DANH BẠ PYTHON\")\n",
    "def add():\n",
    "    \"\"\"Hàm thêm một người bạn\"\"\"\n",
    " \n",
    "    print(\"*** THÊM DANH BẠ ***\")\n",
    " \n",
    "    # Danh sách \n",
    "#     global listname\n",
    " \n",
    "    # Cấu trúc lưu trữ một danh bạ\n",
    "    infor = {\n",
    "        'name' : '',\n",
    "        'tel' : '',\n",
    "        'email':'',\n",
    "        'add': '',\n",
    "        'note': '',\n",
    "        'tag': ''\n",
    "        \n",
    "    }\n",
    " \n",
    "    # Nhập tên, có kiểm tra trùng tên thì nhập lại\n",
    "    print(\"Nhập tên danh bạ:\")\n",
    "    infor['name'] = input()\n",
    " \n",
    "    # Nhập số điện thoại\n",
    "    print(\"Nhập số điện thoại:\")\n",
    "    infor['tel'] = input()\n",
    "\n",
    "    # Nhập email:\n",
    "    print(\"Nhập email: \")\n",
    "    infor['email'] = input()\n",
    "    \n",
    "    # Nhập địa chỉ:\n",
    "    print(\"Nhập địa chỉ: \")\n",
    "    infor['add'] = input()\n",
    "    # Nhập vào note:\n",
    "    print(\"Nhập note: \")\n",
    "    infor['note'] = input()\n",
    "    # Nhập tag:\n",
    "    print(\"Nhập tag: \")\n",
    "    infor['tag'] = input()\n",
    "    # Lưu vào danh sách sv\n",
    "    listname.append(infor)\n",
    "\n",
    "# def findname(id):\n",
    "#     \"\"\"Hàm tìm một người trong danh bạ\"\"\"\n",
    "#     global listname\n",
    "#     for i in range(0, len(listname)):\n",
    "#         if listname[i]['name'] == name:\n",
    "#             # Trả về mảng gồm 2 phần tử,\n",
    "#             # 0 là vị trí tìm thấy và 1 là dữ liệu\n",
    "#             return [i, listname[i]]\n",
    "#     return False\n",
    "\n",
    "def deletelist():\n",
    "    \"\"\"Hàm xóa danh bạ\"\"\"\n",
    "    print(\"*** XÓA KHỎI DANH BẠ ***\")\n",
    "    print(\"Nhập TÊN danh bạ cần xóa:\")\n",
    "    fname = input()\n",
    "#     global listname\n",
    "    a = int(input('Nhập chỉ mục vị trí cần xóa'))\n",
    "    if a == True:\n",
    "        listname.remove(listname[a])\n",
    "        print(\"Xóa danh bạ thành công\")\n",
    "    else :\n",
    "        print(\"Không tìm thấy sinh viên cần xóa\")\n",
    "def showlist():\n",
    "    \"\"\"Hàm hiển thị danh sách danh bạ\"\"\"\n",
    "    print(\"*** DANH SÁCH DANH BẠ HIỆN TẠI ***\")\n",
    "#     global listname\n",
    "    print(listname)\n",
    "def editlist():\n",
    "    \"\"\"Hàm sửa danh bạn\"\"\"\n",
    "    print(\"*** SỬA THÔNG TIN DANH BẠ ***\")\n",
    "#     global listname\n",
    "    print(\"Nhập tên danh cần sửa\")\n",
    "    fname = input()\n",
    "    if name == False:\n",
    "        print(\"Không tìm thấy sinh viên \", name)\n",
    "    else :\n",
    "        print(\"Nhập vị trí cần sửa: \")\n",
    "        n = int(input(\"Nhập chỉ mục index\"))\n",
    "        value = input(\"Nhập giá trị cần sửa\")\n",
    "        re = input()\n",
    "        listname[n][value] = re\n",
    "# CHƯƠNG TRÌNH CHÍNH\n",
    "listname = []\n",
    "action = 0\n",
    " \n",
    "while action >= 0:\n",
    "    if action == 1:\n",
    "        add()\n",
    "    elif action == 2:\n",
    "        deletelist()\n",
    "    elif action == 3:\n",
    "        editlist()\n",
    "    elif action == 4:\n",
    "        showlist()\n",
    " \n",
    "    print(\"Chọn chức năng muốn thực hiện:\")\n",
    "    print(\"Nhập 1: Thêm sinh viên\")\n",
    "    print(\"Nhập 2: Xóa sinh viên\")\n",
    "    print(\"Nhập 3: Sửa sinh viên\")\n",
    "    print(\"Nhập 4: Xem danh sách sinh viên\")\n",
    "    print(\"Nhập 0: Thoát khỏi chương trình\")\n",
    "    action = int(input())\n",
    "    if action == 0:\n",
    "        break"
   ]
  },
  {
   "cell_type": "code",
   "execution_count": 6,
   "metadata": {},
   "outputs": [
    {
     "data": {
      "text/plain": [
       "[]"
      ]
     },
     "execution_count": 6,
     "metadata": {},
     "output_type": "execute_result"
    }
   ],
   "source": [
    "listname"
   ]
  },
  {
   "cell_type": "code",
   "execution_count": 17,
   "metadata": {},
   "outputs": [
    {
     "data": {
      "text/plain": [
       "'Duc'"
      ]
     },
     "execution_count": 17,
     "metadata": {},
     "output_type": "execute_result"
    }
   ],
   "source": [
    "listname[0]['name']"
   ]
  },
  {
   "cell_type": "code",
   "execution_count": null,
   "metadata": {},
   "outputs": [],
   "source": []
  }
 ],
 "metadata": {
  "kernelspec": {
   "display_name": "Python 3",
   "language": "python",
   "name": "python3"
  },
  "language_info": {
   "codemirror_mode": {
    "name": "ipython",
    "version": 3
   },
   "file_extension": ".py",
   "mimetype": "text/x-python",
   "name": "python",
   "nbconvert_exporter": "python",
   "pygments_lexer": "ipython3",
   "version": "3.7.6"
  }
 },
 "nbformat": 4,
 "nbformat_minor": 4
}
