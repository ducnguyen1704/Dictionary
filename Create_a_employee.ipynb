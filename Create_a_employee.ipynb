{
 "cells": [
  {
   "cell_type": "code",
   "execution_count": 6,
   "metadata": {},
   "outputs": [
    {
     "ename": "SyntaxError",
     "evalue": "invalid syntax (<ipython-input-6-3ac5a4ec6ce9>, line 51)",
     "output_type": "error",
     "traceback": [
      "\u001b[1;36m  File \u001b[1;32m\"<ipython-input-6-3ac5a4ec6ce9>\"\u001b[1;36m, line \u001b[1;32m51\u001b[0m\n\u001b[1;33m    Post a comment\u001b[0m\n\u001b[1;37m         ^\u001b[0m\n\u001b[1;31mSyntaxError\u001b[0m\u001b[1;31m:\u001b[0m invalid syntax\n"
     ]
    }
   ],
   "source": [
    "dept_db = {\n",
    "      101 : 'HRD',\n",
    "      102 : 'FINANCE',\n",
    "      103 : 'ACCOUNTS',\n",
    "      104 : 'SALES',\n",
    "      105 : 'ENGINEERING',\n",
    "      106 : 'SUPPORT'\n",
    "     }\n",
    " \n",
    "\n",
    "employee_db = { \n",
    "1000: dict(name=\"Alex\",   doj='01-10-89',dept=103),\n",
    "1001: dict(name=\"Mary\",   doj='01-11-88', dept=101),\n",
    "1002: dict(name=\"John\",   doj='01-10-87', dept=104),\n",
    "1003: dict(name=\"David\",  doj='01-06-89', dept=105),\n",
    "1004: dict(name=\"Anne\",   doj='01-01-86', dept=106),\n",
    "1005: dict(name=\"Samson\", doj='01-02-89', dept=101)\n",
    "}\n",
    "\n",
    " \n",
    "def get_emp_info(emp_id):\n",
    "    if emp_id in employee_db:\n",
    "        return employee_db[emp_id]\n",
    "    else:\n",
    "        print(emp_id, \" doesn't exists \")\n",
    "        return\n",
    "\n",
    "\n",
    "def get_dept_info(dept_id):\n",
    "    if dept_id in dept_db:\n",
    "        return dept_db[dept_id]\n",
    "    else:\n",
    "        print(dept_id, \" doesn't exists \")\n",
    "        return\n",
    "\n",
    "\n",
    "def display_emp_data(emp_data):\n",
    "    for key,value in emp_data.items():\n",
    "        if key == 'dept':\n",
    "            print(key, \" : \", get_dept_info(value))\n",
    "        else:\n",
    "            print(key, \" : \", value)\n",
    "\n",
    "\n",
    "emp_id = int(input(\"Please Enter Emp Id :\"))\n",
    "\n",
    "emp_data = get_emp_info(emp_id)\n",
    "\n",
    "if emp_data:\n",
    "    display_emp_data(emp_data)\n",
    "Post a comment\n",
    "dept_db = {101: 'HRD', 102: 'FINANCE', 103: 'ACCOUNTS', 104: 'SALES', 105: 'ENGINEERING', 106: 'SUPPORT'} worker_db = {1000: dict (name = \"Alex \", doj = '01 -10-89 ', dept = 103), 1001: dict (name =\" Mary \", doj = '01 -11-88', dept = 101), 1002: dict (name =\" John \", doj = '01 -10-87 ', dept = 104), 1003: dict (name =\" David \", doj = '01 -06-89', dept = 105), 1004: dict (name =\" Anne \", doj = '01 -01-86 ', dept = 106), 1005: dict (name =\" Samson \", doj = '01 -02-89', dept = 101)} def get_emp_info (emp_id): if emp_id trong worker_db: return worker_db [emp_id] else: print (emp_id, \"không tồn tại\") return def get_dept_info (dept_id): if dept_id in dept_db: return dept_db [dept_id] else: print (dept_id, \"không tồn tại\" ) return def display_emp_data (emp_data): ch"
   ]
  },
  {
   "cell_type": "code",
   "execution_count": 11,
   "metadata": {},
   "outputs": [],
   "source": [
    "student = {\n",
    "  \"name\":\"emma\",\n",
    "  \"class\": '9',\n",
    "  \"marks\": 75\n",
    "}"
   ]
  },
  {
   "cell_type": "code",
   "execution_count": 19,
   "metadata": {},
   "outputs": [
    {
     "name": "stdout",
     "output_type": "stream",
     "text": [
      "75\n"
     ]
    }
   ],
   "source": [
    "m = student.get('marks')\n",
    "print(m)"
   ]
  },
  {
   "cell_type": "code",
   "execution_count": 20,
   "metadata": {},
   "outputs": [
    {
     "name": "stdout",
     "output_type": "stream",
     "text": [
      "{1: 'A', 2: 'b', 4: 'D', 5: 'E'}\n"
     ]
    }
   ],
   "source": [
    "a={1:'A',2:'b'}\n",
    "\n",
    "b={4:'D',5:'E'}\n",
    "\n",
    "a.update(b)\n",
    "\n",
    "print(a)"
   ]
  },
  {
   "cell_type": "code",
   "execution_count": 25,
   "metadata": {},
   "outputs": [
    {
     "name": "stdout",
     "output_type": "stream",
     "text": [
      "{'numbers': {1: 56, 3: 7}, 'letters': {4: 'B'}}\n"
     ]
    }
   ],
   "source": [
    "numbers = {}\n",
    "\n",
    "letters = {}\n",
    "\n",
    "comb = {}\n",
    "\n",
    "numbers[1] = 56\n",
    "\n",
    "numbers[3] = 7\n",
    "\n",
    "letters[4] = 'B'\n",
    "\n",
    "comb['numbers'] = numbers\n",
    "\n",
    "comb['letters'] = letters\n",
    "\n",
    "print(comb)"
   ]
  },
  {
   "cell_type": "code",
   "execution_count": 26,
   "metadata": {},
   "outputs": [
    {
     "name": "stdout",
     "output_type": "stream",
     "text": [
      "2\n"
     ]
    }
   ],
   "source": [
    "test = {1:'A', 2:'B', 3:'C'}\n",
    "\n",
    "del test[1]\n",
    "\n",
    "test[1] = 'D'\n",
    "\n",
    "del test[2]\n",
    "\n",
    "print(len(test))"
   ]
  },
  {
   "cell_type": "code",
   "execution_count": 27,
   "metadata": {},
   "outputs": [
    {
     "name": "stdout",
     "output_type": "stream",
     "text": [
      "6\n"
     ]
    }
   ],
   "source": [
    "a = {}\n",
    "\n",
    "a[1] = 1\n",
    "\n",
    "a['1'] = 2\n",
    "\n",
    "a[1.0]=4\n",
    "\n",
    "count = 0\n",
    "\n",
    "for i in a:\n",
    "\n",
    "    count += a[i]\n",
    "\n",
    "print(count)"
   ]
  },
  {
   "cell_type": "code",
   "execution_count": null,
   "metadata": {},
   "outputs": [],
   "source": []
  }
 ],
 "metadata": {
  "kernelspec": {
   "display_name": "Python 3",
   "language": "python",
   "name": "python3"
  },
  "language_info": {
   "codemirror_mode": {
    "name": "ipython",
    "version": 3
   },
   "file_extension": ".py",
   "mimetype": "text/x-python",
   "name": "python",
   "nbconvert_exporter": "python",
   "pygments_lexer": "ipython3",
   "version": "3.7.6"
  }
 },
 "nbformat": 4,
 "nbformat_minor": 4
}
