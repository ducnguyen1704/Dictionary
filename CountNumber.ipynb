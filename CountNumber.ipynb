{
 "cells": [
  {
   "cell_type": "markdown",
   "metadata": {},
   "source": [
    "# Count number of occurrence of words in a given text.\n",
    "# Viết chương trình đếm số lần xuất hiện của một từ trong một văn bản nhất định (đã cho sẵn)"
   ]
  },
  {
   "cell_type": "code",
   "execution_count": 1,
   "metadata": {},
   "outputs": [
    {
     "data": {
      "text/plain": [
       "50"
      ]
     },
     "execution_count": 1,
     "metadata": {},
     "output_type": "execute_result"
    }
   ],
   "source": [
    "sentence = \"viết chương trình đếm số lần xuất hiện của một từ \"\n",
    "len(sentence)"
   ]
  },
  {
   "cell_type": "code",
   "execution_count": 4,
   "metadata": {},
   "outputs": [],
   "source": [
    "count = {}\n",
    "def count_sentence(sentence):\n",
    "    for i in sentence:\n",
    "        if i in count:\n",
    "            count[i] +=1\n",
    "        else:\n",
    "            count[i] = 1\n",
    "    return count\n",
    "    "
   ]
  },
  {
   "cell_type": "code",
   "execution_count": 5,
   "metadata": {},
   "outputs": [
    {
     "data": {
      "text/plain": [
       "{'v': 1,\n",
       " 'i': 2,\n",
       " 'ế': 2,\n",
       " 't': 5,\n",
       " ' ': 11,\n",
       " 'c': 2,\n",
       " 'h': 3,\n",
       " 'ư': 1,\n",
       " 'ơ': 1,\n",
       " 'n': 4,\n",
       " 'g': 1,\n",
       " 'r': 1,\n",
       " 'ì': 1,\n",
       " 'đ': 1,\n",
       " 'm': 2,\n",
       " 's': 1,\n",
       " 'ố': 1,\n",
       " 'l': 1,\n",
       " 'ầ': 1,\n",
       " 'x': 1,\n",
       " 'u': 1,\n",
       " 'ấ': 1,\n",
       " 'ệ': 1,\n",
       " 'ủ': 1,\n",
       " 'a': 1,\n",
       " 'ộ': 1,\n",
       " 'ừ': 1}"
      ]
     },
     "execution_count": 5,
     "metadata": {},
     "output_type": "execute_result"
    }
   ],
   "source": [
    "count_sentence(sentence)"
   ]
  },
  {
   "cell_type": "code",
   "execution_count": null,
   "metadata": {},
   "outputs": [],
   "source": []
  }
 ],
 "metadata": {
  "kernelspec": {
   "display_name": "Python 3",
   "language": "python",
   "name": "python3"
  },
  "language_info": {
   "codemirror_mode": {
    "name": "ipython",
    "version": 3
   },
   "file_extension": ".py",
   "mimetype": "text/x-python",
   "name": "python",
   "nbconvert_exporter": "python",
   "pygments_lexer": "ipython3",
   "version": "3.7.6"
  }
 },
 "nbformat": 4,
 "nbformat_minor": 4
}
