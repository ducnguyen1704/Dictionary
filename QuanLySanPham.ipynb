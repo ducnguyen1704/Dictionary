{
 "cells": [
  {
   "cell_type": "markdown",
   "metadata": {},
   "source": [
    "# Ứng dụng quản lý sản phẩm"
   ]
  },
  {
   "cell_type": "code",
   "execution_count": 9,
   "metadata": {},
   "outputs": [],
   "source": [
    "# Hiển thị\n",
    "def show():\n",
    "    pass"
   ]
  },
  {
   "cell_type": "code",
   "execution_count": 10,
   "metadata": {},
   "outputs": [],
   "source": [
    "# Thêm:\n",
    "def add():\n",
    "    return input(\"Enter the name of item: \")"
   ]
  },
  {
   "cell_type": "code",
   "execution_count": 11,
   "metadata": {},
   "outputs": [],
   "source": [
    "# Sửa:\n",
    "def remove():\n",
    "    pass"
   ]
  },
  {
   "cell_type": "code",
   "execution_count": 12,
   "metadata": {},
   "outputs": [],
   "source": [
    "def delete():\n",
    "    pass"
   ]
  },
  {
   "cell_type": "code",
   "execution_count": 13,
   "metadata": {},
   "outputs": [],
   "source": [
    "def choice():\n",
    "    while True:\n",
    "        try:\n",
    "            option = int(input(\"\"\"\n",
    "            Lựa chọn chức năng:\n",
    "            1. Hiển thị sản phẩm\n",
    "            2. Thêm sản phẩm\n",
    "            3. Cập nhập sản phẩm\n",
    "            4. Xóa sản phẩm\n",
    "            5. Thoát chương trình\n",
    "            \n",
    "            ==> Lựa chọn của bạn: \"\"\"))\n",
    "            if 1 <= option <=5:\n",
    "                return option\n",
    "                break\n",
    "            else:\n",
    "                print(\"Lựa chọn không phù hợp, xin mời nhập lại!\")\n",
    "        except ValueError:\n",
    "            print(\"Lựa chọn không phù hợp, xin mời nhập lại!\")"
   ]
  },
  {
   "cell_type": "code",
   "execution_count": 14,
   "metadata": {},
   "outputs": [],
   "source": [
    "def try_again(text):\n",
    "    answer == input(text).upper()\n",
    "    if answer == \"Y\" or answer == 'YES':\n",
    "        return True\n",
    "    else:\n",
    "        return False"
   ]
  },
  {
   "cell_type": "code",
   "execution_count": 15,
   "metadata": {},
   "outputs": [],
   "source": [
    "def choose_item(products):\n",
    "    while True:\n",
    "        try:\n",
    "            value = int(input())\n",
    "            if value in list(products.keys()):\n",
    "                return value\n",
    "                break\n",
    "            else:\n",
    "                print(\"\\nS/N {value} Không nằm trong phần quản lý\\n\")\n",
    "        except ValueError:\n",
    "            print(\"Lựa chọn không phù hợp, xin mời nhập lại!\")"
   ]
  },
  {
   "cell_type": "code",
   "execution_count": null,
   "metadata": {},
   "outputs": [
    {
     "name": "stdout",
     "output_type": "stream",
     "text": [
      "\n",
      "            Lựa chọn chức năng:\n",
      "            1. Hiển thị sản phẩm\n",
      "            2. Thêm sản phẩm\n",
      "            3. Cập nhập sản phẩm\n",
      "            4. Xóa sản phẩm\n",
      "            5. Thoát chương trình\n",
      "            \n",
      "            ==> Lựa chọn của bạn: 2\n",
      "Enter the name of item: 1\n",
      "\n",
      "            Lựa chọn chức năng:\n",
      "            1. Hiển thị sản phẩm\n",
      "            2. Thêm sản phẩm\n",
      "            3. Cập nhập sản phẩm\n",
      "            4. Xóa sản phẩm\n",
      "            5. Thoát chương trình\n",
      "            \n",
      "            ==> Lựa chọn của bạn: 2\n",
      "Enter the name of item: Xoài\n",
      "\n",
      "            Lựa chọn chức năng:\n",
      "            1. Hiển thị sản phẩm\n",
      "            2. Thêm sản phẩm\n",
      "            3. Cập nhập sản phẩm\n",
      "            4. Xóa sản phẩm\n",
      "            5. Thoát chương trình\n",
      "            \n",
      "            ==> Lựa chọn của bạn: 2\n",
      "Enter the name of item: Táo\n",
      "\n",
      "            Lựa chọn chức năng:\n",
      "            1. Hiển thị sản phẩm\n",
      "            2. Thêm sản phẩm\n",
      "            3. Cập nhập sản phẩm\n",
      "            4. Xóa sản phẩm\n",
      "            5. Thoát chương trình\n",
      "            \n",
      "            ==> Lựa chọn của bạn: 5\n",
      "\n",
      "            Lựa chọn chức năng:\n",
      "            1. Hiển thị sản phẩm\n",
      "            2. Thêm sản phẩm\n",
      "            3. Cập nhập sản phẩm\n",
      "            4. Xóa sản phẩm\n",
      "            5. Thoát chương trình\n",
      "            \n",
      "            ==> Lựa chọn của bạn: 5\n",
      "\n",
      "            Lựa chọn chức năng:\n",
      "            1. Hiển thị sản phẩm\n",
      "            2. Thêm sản phẩm\n",
      "            3. Cập nhập sản phẩm\n",
      "            4. Xóa sản phẩm\n",
      "            5. Thoát chương trình\n",
      "            \n",
      "            ==> Lựa chọn của bạn: Y\n",
      "Lựa chọn không phù hợp, xin mời nhập lại!\n",
      "\n",
      "            Lựa chọn chức năng:\n",
      "            1. Hiển thị sản phẩm\n",
      "            2. Thêm sản phẩm\n",
      "            3. Cập nhập sản phẩm\n",
      "            4. Xóa sản phẩm\n",
      "            5. Thoát chương trình\n",
      "            \n",
      "            ==> Lựa chọn của bạn: 3\n",
      "Nhập vào tên sản phẩm cần cập nhập: \n",
      "Hoa quả\n",
      "Lựa chọn không phù hợp, xin mời nhập lại!\n",
      "Táo\n",
      "Lựa chọn không phù hợp, xin mời nhập lại!\n",
      "Lê\n",
      "Lựa chọn không phù hợp, xin mời nhập lại!\n",
      "Xoài\n",
      "Lựa chọn không phù hợp, xin mời nhập lại!\n"
     ]
    }
   ],
   "source": [
    "if __name__ == '__main__':\n",
    "    products = {}\n",
    "    while True:\n",
    "        option = choice()\n",
    "        if option == 2:\n",
    "            if bool(products):\n",
    "                products.update({max(products.keys()) + 1: add()})\n",
    "            else:\n",
    "                products.update({1: add()})\n",
    "        elif option == 5:\n",
    "            exit()\n",
    "        else:\n",
    "            if bool(products):\n",
    "                if option == 1:\n",
    "                    print(\"Nhập vào tên mặt hàng: \")\n",
    "                    for key, val in goods.items():\n",
    "                        print(f\"{key}: {val}\")\n",
    "                elif option == 3:\n",
    "                    print(\"Nhập vào tên sản phẩm cần cập nhập: \")\n",
    "                    serial = choose_item(products)\n",
    "                    new_value = input(\"Tên sản phẩm mới: \")\n",
    "                    products[serial] = new_value\n",
    "                elif option == 4:\n",
    "                    print(\"Nhập tên mặt hàng muốn xóa: \")\n",
    "                    serial = choose_item(products)\n",
    "                    del products[serial]\n",
    "            else:\n",
    "                print(\"\\nEmpty inventory. You have to import something!!!\\n\".upper())"
   ]
  },
  {
   "cell_type": "code",
   "execution_count": null,
   "metadata": {},
   "outputs": [],
   "source": []
  }
 ],
 "metadata": {
  "kernelspec": {
   "display_name": "Python 3",
   "language": "python",
   "name": "python3"
  },
  "language_info": {
   "codemirror_mode": {
    "name": "ipython",
    "version": 3
   },
   "file_extension": ".py",
   "mimetype": "text/x-python",
   "name": "python",
   "nbconvert_exporter": "python",
   "pygments_lexer": "ipython3",
   "version": "3.7.6"
  }
 },
 "nbformat": 4,
 "nbformat_minor": 4
}
